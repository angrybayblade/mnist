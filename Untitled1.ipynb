{
 "cells": [
  {
   "cell_type": "code",
   "execution_count": 4,
   "metadata": {},
   "outputs": [],
   "source": [
    "import pandas as pd \n",
    "import numpy as np\n",
    "import matplotlib.pyplot as plt\n",
    "\n",
    "from sklearn.model_selection import StratifiedKFold\n",
    "\n",
    "%matplotlib inline"
   ]
  },
  {
   "cell_type": "code",
   "execution_count": 5,
   "metadata": {},
   "outputs": [],
   "source": [
    "from tensorflow import keras"
   ]
  },
  {
   "cell_type": "code",
   "execution_count": 127,
   "metadata": {},
   "outputs": [],
   "source": [
    "train = pd.read_csv(\"./train.csv\")"
   ]
  },
  {
   "cell_type": "code",
   "execution_count": 128,
   "metadata": {},
   "outputs": [],
   "source": [
    "labels = pd.get_dummies(train.pop(\"label\")).values"
   ]
  },
  {
   "cell_type": "code",
   "execution_count": 129,
   "metadata": {},
   "outputs": [],
   "source": [
    "images = train.values.reshape(-1,28,28,1)/255"
   ]
  },
  {
   "cell_type": "code",
   "execution_count": 130,
   "metadata": {},
   "outputs": [],
   "source": [
    "datagen = keras.preprocessing.image.ImageDataGenerator(width_shift_range=[-1,0,1],height_shift_range=[-1,0,1],shear_range=0.3,zoom_range=0.2)"
   ]
  },
  {
   "cell_type": "code",
   "execution_count": 132,
   "metadata": {},
   "outputs": [],
   "source": [
    "datagen.fit(images,)"
   ]
  },
  {
   "cell_type": "code",
   "execution_count": 133,
   "metadata": {},
   "outputs": [],
   "source": [
    "model = keras.Sequential([\n",
    "    keras.layers.Conv2D(32,3,activation=\"relu\",padding=\"same\",input_shape=(28,28,1)),\n",
    "    keras.layers.Conv2D(32,3,activation=\"relu\",padding=\"same\"),\n",
    "    keras.layers.MaxPool2D(),\n",
    "    keras.layers.Conv2D(64,3,activation=\"relu\",padding=\"same\"),\n",
    "    keras.layers.BatchNormalization(),\n",
    "    keras.layers.Conv2D(32,3,activation=\"relu\",padding=\"same\"),\n",
    "    keras.layers.Conv2D(32,3,activation=\"relu\",padding=\"same\"),\n",
    "    keras.layers.MaxPool2D(),\n",
    "    keras.layers.Conv2D(64,3,activation=\"relu\",padding=\"same\"),\n",
    "    keras.layers.Conv2D(64,3,activation=\"relu\",padding=\"same\"),\n",
    "    keras.layers.BatchNormalization(),\n",
    "    keras.layers.Flatten(),\n",
    "    keras.layers.Dense(1024,activation=\"relu\"),\n",
    "    keras.layers.Dense(1024,activation=\"relu\"),\n",
    "    keras.layers.Dense(512,activation=\"relu\"),\n",
    "    keras.layers.Dense(10,activation=\"softmax\")\n",
    "])"
   ]
  },
  {
   "cell_type": "code",
   "execution_count": 143,
   "metadata": {},
   "outputs": [],
   "source": [
    "model.compile(optimizer=\"adam\",loss=\"categorical_crossentropy\",metrics=['accuracy'])"
   ]
  },
  {
   "cell_type": "code",
   "execution_count": 144,
   "metadata": {},
   "outputs": [],
   "source": [
    "folds = StratifiedKFold(n_splits=10,shuffle=True,random_state=42)"
   ]
  },
  {
   "cell_type": "code",
   "execution_count": 146,
   "metadata": {
    "scrolled": false
   },
   "outputs": [
    {
     "name": "stdout",
     "output_type": "stream",
     "text": [
      "148/147 [==============================] - 8s 56ms/step - loss: 0.0187 - acc: 0.9947\n",
      "Validation\n",
      "4200/4200 [==============================] - 0s 92us/sample - loss: 0.0428 - acc: 0.9917\n",
      "\n",
      "\n",
      "148/147 [==============================] - 8s 55ms/step - loss: 0.0165 - acc: 0.9956\n",
      "Validation\n",
      "4200/4200 [==============================] - 0s 86us/sample - loss: 0.0587 - acc: 0.9855\n",
      "\n",
      "\n",
      "148/147 [==============================] - 8s 56ms/step - loss: 0.0202 - acc: 0.9942\n",
      "Validation\n",
      "4200/4200 [==============================] - 0s 100us/sample - loss: 0.0144 - acc: 0.9952\n",
      "\n",
      "\n",
      "148/147 [==============================] - 8s 57ms/step - loss: 0.0166 - acc: 0.9953\n",
      "Validation\n",
      "4200/4200 [==============================] - 0s 91us/sample - loss: 0.0113 - acc: 0.9964\n",
      "\n",
      "\n",
      "148/147 [==============================] - 9s 57ms/step - loss: 0.0140 - acc: 0.9964\n",
      "Validation\n",
      "4200/4200 [==============================] - 0s 104us/sample - loss: 0.0131 - acc: 0.9952\n",
      "\n",
      "\n",
      "148/147 [==============================] - 8s 57ms/step - loss: 0.0157 - acc: 0.9954\n",
      "Validation\n",
      "4200/4200 [==============================] - 0s 89us/sample - loss: 0.0158 - acc: 0.9952\n",
      "\n",
      "\n",
      "148/147 [==============================] - 9s 59ms/step - loss: 0.0176 - acc: 0.9955\n",
      "Validation\n",
      "4200/4200 [==============================] - 0s 90us/sample - loss: 0.0171 - acc: 0.9945\n",
      "\n",
      "\n",
      "148/147 [==============================] - 9s 59ms/step - loss: 0.0136 - acc: 0.9958\n",
      "Validation\n",
      "4200/4200 [==============================] - 0s 93us/sample - loss: 0.0086 - acc: 0.9969\n",
      "\n",
      "\n",
      "148/147 [==============================] - 9s 60ms/step - loss: 0.0155 - acc: 0.9956\n",
      "Validation\n",
      "4200/4200 [==============================] - 0s 94us/sample - loss: 0.0114 - acc: 0.9955\n",
      "\n",
      "\n",
      "148/147 [==============================] - 9s 62ms/step - loss: 0.0121 - acc: 0.9966\n",
      "Validation\n",
      "4200/4200 [==============================] - 0s 87us/sample - loss: 0.0139 - acc: 0.9971\n",
      "\n",
      "\n"
     ]
    }
   ],
   "source": [
    "for train,test in folds.split(images,labels.argmax(axis=1)):\n",
    "    batch_size = 256\n",
    "    gen = datagen.flow(images[train],labels[train],batch_size=batch_size)\n",
    "    model.fit_generator(gen,steps_per_epoch=len(train)/batch_size,epochs=1)\n",
    "    print (\"Validation\")\n",
    "    model.evaluate(images[test],labels[test])\n",
    "    print (\"\\n\")"
   ]
  },
  {
   "cell_type": "code",
   "execution_count": 162,
   "metadata": {},
   "outputs": [],
   "source": [
    "test = pd.read_csv(\"./test.csv\").values.reshape(-1,28,28,1)/255"
   ]
  },
  {
   "cell_type": "code",
   "execution_count": 163,
   "metadata": {},
   "outputs": [],
   "source": [
    "preds = model.predict(test)"
   ]
  },
  {
   "cell_type": "code",
   "execution_count": 164,
   "metadata": {},
   "outputs": [],
   "source": [
    "preds = preds.argmax(axis=1)"
   ]
  },
  {
   "cell_type": "code",
   "execution_count": 165,
   "metadata": {},
   "outputs": [],
   "source": [
    "submission = pd.read_csv(\"./sample_submission.csv\")"
   ]
  },
  {
   "cell_type": "code",
   "execution_count": 166,
   "metadata": {},
   "outputs": [
    {
     "data": {
      "text/html": [
       "<div>\n",
       "<style scoped>\n",
       "    .dataframe tbody tr th:only-of-type {\n",
       "        vertical-align: middle;\n",
       "    }\n",
       "\n",
       "    .dataframe tbody tr th {\n",
       "        vertical-align: top;\n",
       "    }\n",
       "\n",
       "    .dataframe thead th {\n",
       "        text-align: right;\n",
       "    }\n",
       "</style>\n",
       "<table border=\"1\" class=\"dataframe\">\n",
       "  <thead>\n",
       "    <tr style=\"text-align: right;\">\n",
       "      <th></th>\n",
       "      <th>ImageId</th>\n",
       "      <th>Label</th>\n",
       "    </tr>\n",
       "  </thead>\n",
       "  <tbody>\n",
       "    <tr>\n",
       "      <th>0</th>\n",
       "      <td>1</td>\n",
       "      <td>0</td>\n",
       "    </tr>\n",
       "    <tr>\n",
       "      <th>1</th>\n",
       "      <td>2</td>\n",
       "      <td>0</td>\n",
       "    </tr>\n",
       "    <tr>\n",
       "      <th>2</th>\n",
       "      <td>3</td>\n",
       "      <td>0</td>\n",
       "    </tr>\n",
       "    <tr>\n",
       "      <th>3</th>\n",
       "      <td>4</td>\n",
       "      <td>0</td>\n",
       "    </tr>\n",
       "    <tr>\n",
       "      <th>4</th>\n",
       "      <td>5</td>\n",
       "      <td>0</td>\n",
       "    </tr>\n",
       "    <tr>\n",
       "      <th>...</th>\n",
       "      <td>...</td>\n",
       "      <td>...</td>\n",
       "    </tr>\n",
       "    <tr>\n",
       "      <th>27995</th>\n",
       "      <td>27996</td>\n",
       "      <td>0</td>\n",
       "    </tr>\n",
       "    <tr>\n",
       "      <th>27996</th>\n",
       "      <td>27997</td>\n",
       "      <td>0</td>\n",
       "    </tr>\n",
       "    <tr>\n",
       "      <th>27997</th>\n",
       "      <td>27998</td>\n",
       "      <td>0</td>\n",
       "    </tr>\n",
       "    <tr>\n",
       "      <th>27998</th>\n",
       "      <td>27999</td>\n",
       "      <td>0</td>\n",
       "    </tr>\n",
       "    <tr>\n",
       "      <th>27999</th>\n",
       "      <td>28000</td>\n",
       "      <td>0</td>\n",
       "    </tr>\n",
       "  </tbody>\n",
       "</table>\n",
       "<p>28000 rows × 2 columns</p>\n",
       "</div>"
      ],
      "text/plain": [
       "       ImageId  Label\n",
       "0            1      0\n",
       "1            2      0\n",
       "2            3      0\n",
       "3            4      0\n",
       "4            5      0\n",
       "...        ...    ...\n",
       "27995    27996      0\n",
       "27996    27997      0\n",
       "27997    27998      0\n",
       "27998    27999      0\n",
       "27999    28000      0\n",
       "\n",
       "[28000 rows x 2 columns]"
      ]
     },
     "execution_count": 166,
     "metadata": {},
     "output_type": "execute_result"
    }
   ],
   "source": [
    "submission"
   ]
  },
  {
   "cell_type": "code",
   "execution_count": 169,
   "metadata": {},
   "outputs": [],
   "source": [
    "submission = pd.DataFrame({\n",
    "    \"ImageId\":range(1,28001),\n",
    "    \"Label\":preds.tolist()\n",
    "})"
   ]
  },
  {
   "cell_type": "code",
   "execution_count": 170,
   "metadata": {},
   "outputs": [],
   "source": [
    "submission.to_csv(\"./sub.csv\",index=False)"
   ]
  },
  {
   "cell_type": "code",
   "execution_count": null,
   "metadata": {},
   "outputs": [],
   "source": []
  }
 ],
 "metadata": {
  "kernelspec": {
   "display_name": "Python 3",
   "language": "python",
   "name": "python3"
  },
  "language_info": {
   "codemirror_mode": {
    "name": "ipython",
    "version": 3
   },
   "file_extension": ".py",
   "mimetype": "text/x-python",
   "name": "python",
   "nbconvert_exporter": "python",
   "pygments_lexer": "ipython3",
   "version": "3.6.9"
  }
 },
 "nbformat": 4,
 "nbformat_minor": 4
}
