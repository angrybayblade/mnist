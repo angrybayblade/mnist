{
 "cells": [
  {
   "cell_type": "code",
   "execution_count": 1,
   "metadata": {},
   "outputs": [],
   "source": [
    "import tensorflow as tf\n",
    "import cv2\n",
    "import matplotlib.pyplot as plt\n",
    "import pandas as pd\n",
    "import numpy as np\n",
    "\n",
    "%matplotlib inline"
   ]
  },
  {
   "cell_type": "code",
   "execution_count": 37,
   "metadata": {},
   "outputs": [],
   "source": [
    "from tensorflow.keras.layers import *\n",
    "from tensorflow.keras.models import Model"
   ]
  },
  {
   "cell_type": "code",
   "execution_count": 38,
   "metadata": {},
   "outputs": [],
   "source": [
    "images = pd.read_csv(\"./train.csv\")"
   ]
  },
  {
   "cell_type": "code",
   "execution_count": 39,
   "metadata": {},
   "outputs": [],
   "source": [
    "labels = images.pop(\"label\")"
   ]
  },
  {
   "cell_type": "code",
   "execution_count": 40,
   "metadata": {},
   "outputs": [],
   "source": [
    "images = images.values.reshape(-1,784)"
   ]
  },
  {
   "cell_type": "code",
   "execution_count": 41,
   "metadata": {},
   "outputs": [],
   "source": [
    "images = images/255"
   ]
  },
  {
   "cell_type": "code",
   "execution_count": 120,
   "metadata": {},
   "outputs": [],
   "source": [
    "input_img = Input(shape=(784,))\n",
    "encoded = Dense(128, activation='relu')(input_img)\n",
    "encoded = Dense(128, activation='relu')(encoded)\n",
    "encoded = Dense(64, activation='relu')(encoded)\n",
    "encoded = Dense(32, activation='relu')(encoded)\n",
    "decoded = Dense(64, activation='relu')(encoded)\n",
    "decoded = Dense(128, activation='relu')(decoded)\n",
    "decoded = Dense(128, activation='relu')(decoded)\n",
    "decoded = Dense(784, activation='sigmoid')(decoded)\n",
    "\n",
    "autoencoder = Model(input_img, decoded)"
   ]
  },
  {
   "cell_type": "code",
   "execution_count": 121,
   "metadata": {},
   "outputs": [],
   "source": [
    "autoencoder.compile(optimizer='adam', loss='mae')"
   ]
  },
  {
   "cell_type": "code",
   "execution_count": 122,
   "metadata": {
    "scrolled": false
   },
   "outputs": [
    {
     "name": "stdout",
     "output_type": "stream",
     "text": [
      "Train on 42000 samples\n",
      "Epoch 1/50\n",
      "42000/42000 [==============================] - 2s 43us/sample - loss: 0.1347\n",
      "Epoch 2/50\n",
      "42000/42000 [==============================] - 1s 32us/sample - loss: 0.0965\n",
      "Epoch 3/50\n",
      "42000/42000 [==============================] - 1s 32us/sample - loss: 0.0769\n",
      "Epoch 4/50\n",
      "42000/42000 [==============================] - 1s 32us/sample - loss: 0.0686\n",
      "Epoch 5/50\n",
      "42000/42000 [==============================] - 1s 33us/sample - loss: 0.0650\n",
      "Epoch 6/50\n",
      "42000/42000 [==============================] - 1s 32us/sample - loss: 0.0622\n",
      "Epoch 7/50\n",
      "42000/42000 [==============================] - 1s 32us/sample - loss: 0.0597\n",
      "Epoch 8/50\n",
      "42000/42000 [==============================] - 1s 31us/sample - loss: 0.0577\n",
      "Epoch 9/50\n",
      "42000/42000 [==============================] - 1s 33us/sample - loss: 0.0562\n",
      "Epoch 10/50\n",
      "42000/42000 [==============================] - 1s 32us/sample - loss: 0.0546\n",
      "Epoch 11/50\n",
      "42000/42000 [==============================] - 1s 32us/sample - loss: 0.0535\n",
      "Epoch 12/50\n",
      "42000/42000 [==============================] - 1s 32us/sample - loss: 0.0522\n",
      "Epoch 13/50\n",
      "42000/42000 [==============================] - 1s 33us/sample - loss: 0.0514\n",
      "Epoch 14/50\n",
      "42000/42000 [==============================] - 1s 32us/sample - loss: 0.0507\n",
      "Epoch 15/50\n",
      "42000/42000 [==============================] - 1s 32us/sample - loss: 0.0500\n",
      "Epoch 16/50\n",
      "42000/42000 [==============================] - 1s 34us/sample - loss: 0.0494\n",
      "Epoch 17/50\n",
      "42000/42000 [==============================] - 1s 35us/sample - loss: 0.0485\n",
      "Epoch 18/50\n",
      "42000/42000 [==============================] - 2s 37us/sample - loss: 0.0477\n",
      "Epoch 19/50\n",
      "42000/42000 [==============================] - 2s 36us/sample - loss: 0.0474\n",
      "Epoch 20/50\n",
      "42000/42000 [==============================] - 1s 34us/sample - loss: 0.0469\n",
      "Epoch 21/50\n",
      "42000/42000 [==============================] - 1s 34us/sample - loss: 0.0466\n",
      "Epoch 22/50\n",
      "42000/42000 [==============================] - 1s 34us/sample - loss: 0.0462\n",
      "Epoch 23/50\n",
      "42000/42000 [==============================] - 2s 38us/sample - loss: 0.0459\n",
      "Epoch 24/50\n",
      "42000/42000 [==============================] - 1s 34us/sample - loss: 0.0456\n",
      "Epoch 25/50\n",
      "42000/42000 [==============================] - 1s 32us/sample - loss: 0.0453\n",
      "Epoch 26/50\n",
      "42000/42000 [==============================] - 1s 34us/sample - loss: 0.0448\n",
      "Epoch 27/50\n",
      "42000/42000 [==============================] - 2s 40us/sample - loss: 0.0444\n",
      "Epoch 28/50\n",
      "42000/42000 [==============================] - 2s 40us/sample - loss: 0.0441\n",
      "Epoch 29/50\n",
      "42000/42000 [==============================] - 2s 41us/sample - loss: 0.0438\n",
      "Epoch 30/50\n",
      "42000/42000 [==============================] - 1s 34us/sample - loss: 0.0436\n",
      "Epoch 31/50\n",
      "42000/42000 [==============================] - 1s 31us/sample - loss: 0.0432\n",
      "Epoch 32/50\n",
      "42000/42000 [==============================] - 1s 31us/sample - loss: 0.0429\n",
      "Epoch 33/50\n",
      "42000/42000 [==============================] - 1s 34us/sample - loss: 0.0427\n",
      "Epoch 34/50\n",
      "42000/42000 [==============================] - 1s 33us/sample - loss: 0.0424\n",
      "Epoch 35/50\n",
      "42000/42000 [==============================] - 1s 32us/sample - loss: 0.0421\n",
      "Epoch 36/50\n",
      "42000/42000 [==============================] - 1s 33us/sample - loss: 0.0419\n",
      "Epoch 37/50\n",
      "42000/42000 [==============================] - 1s 32us/sample - loss: 0.0417\n",
      "Epoch 38/50\n",
      "42000/42000 [==============================] - 1s 32us/sample - loss: 0.0414\n",
      "Epoch 39/50\n",
      "42000/42000 [==============================] - 1s 32us/sample - loss: 0.0413\n",
      "Epoch 40/50\n",
      "42000/42000 [==============================] - 1s 34us/sample - loss: 0.0411\n",
      "Epoch 41/50\n",
      "42000/42000 [==============================] - 1s 32us/sample - loss: 0.0410\n",
      "Epoch 42/50\n",
      "42000/42000 [==============================] - 1s 34us/sample - loss: 0.0409\n",
      "Epoch 43/50\n",
      "42000/42000 [==============================] - 1s 32us/sample - loss: 0.0408\n",
      "Epoch 44/50\n",
      "42000/42000 [==============================] - 1s 32us/sample - loss: 0.0407\n",
      "Epoch 45/50\n",
      "42000/42000 [==============================] - 1s 32us/sample - loss: 0.0402\n",
      "Epoch 46/50\n",
      "42000/42000 [==============================] - 1s 32us/sample - loss: 0.0400\n",
      "Epoch 47/50\n",
      "42000/42000 [==============================] - 1s 32us/sample - loss: 0.0400\n",
      "Epoch 48/50\n",
      "42000/42000 [==============================] - 1s 34us/sample - loss: 0.0399\n",
      "Epoch 49/50\n",
      "42000/42000 [==============================] - 1s 32us/sample - loss: 0.0398\n",
      "Epoch 50/50\n",
      "42000/42000 [==============================] - 1s 32us/sample - loss: 0.0397\n"
     ]
    },
    {
     "data": {
      "text/plain": [
       "<tensorflow.python.keras.callbacks.History at 0x2f501310908>"
      ]
     },
     "execution_count": 122,
     "metadata": {},
     "output_type": "execute_result"
    }
   ],
   "source": [
    "autoencoder.fit(images,images,batch_size=100,epochs=50)"
   ]
  },
  {
   "cell_type": "code",
   "execution_count": 123,
   "metadata": {},
   "outputs": [],
   "source": [
    "i = 10\n",
    "img = images[i:i+1].copy()"
   ]
  },
  {
   "cell_type": "code",
   "execution_count": 124,
   "metadata": {},
   "outputs": [
    {
     "data": {
      "text/plain": [
       "<matplotlib.image.AxesImage at 0x2f501461ac8>"
      ]
     },
     "execution_count": 124,
     "metadata": {},
     "output_type": "execute_result"
    },
    {
     "data": {
      "image/png": "[encoded data removed]",
      "text/plain": [
       "<Figure size 432x288 with 1 Axes>"
      ]
     },
     "metadata": {
      "needs_background": "light"
     },
     "output_type": "display_data"
    }
   ],
   "source": [
    "plt.imshow(img.reshape(28,28))"
   ]
  },
  {
   "cell_type": "code",
   "execution_count": 125,
   "metadata": {},
   "outputs": [
    {
     "data": {
      "text/plain": [
       "<matplotlib.image.AxesImage at 0x2f501503668>"
      ]
     },
     "execution_count": 125,
     "metadata": {},
     "output_type": "execute_result"
    },
    {
     "data": {
      "image/png": "[encoded data removed]",
      "text/plain": [
       "<Figure size 432x288 with 1 Axes>"
      ]
     },
     "metadata": {
      "needs_background": "light"
     },
     "output_type": "display_data"
    }
   ],
   "source": [
    "plt.imshow(autoencoder.predict(img).reshape(28,28))"
   ]
  },
  {
   "cell_type": "code",
   "execution_count": null,
   "metadata": {},
   "outputs": [],
   "source": []
  }
 ],
 "metadata": {
  "kernelspec": {
   "display_name": "Python 3",
   "language": "python",
   "name": "python3"
  },
  "language_info": {
   "codemirror_mode": {
    "name": "ipython",
    "version": 3
   },
   "file_extension": ".py",
   "mimetype": "text/x-python",
   "name": "python",
   "nbconvert_exporter": "python",
   "pygments_lexer": "ipython3",
   "version": "3.6.8"
  }
 },
 "nbformat": 4,
 "nbformat_minor": 2
}
