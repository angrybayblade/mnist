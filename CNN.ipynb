{
 "cells": [
  {
   "cell_type": "code",
   "execution_count": 1,
   "metadata": {},
   "outputs": [],
   "source": [
    "from warnings import filterwarnings\n",
    "filterwarnings(\"ignore\")\n",
    "\n",
    "import pandas as pd \n",
    "import numpy as np\n",
    "import tensorflow as tf\n",
    "import matplotlib.pyplot as plt\n",
    "import cv2\n",
    "\n",
    "%matplotlib inline\n",
    "\n",
    "from tensorflow.keras.layers import *\n",
    "from tensorflow.keras import Sequential\n",
    "from tensorflow.keras.models import Model\n",
    "\n",
    "from sklearn.preprocessing import OneHotEncoder\n",
    "from sklearn.svm import SVC\n",
    "from sklearn.metrics import precision_score,recall_score,accuracy_score,f1_score\n",
    "from sklearn.model_selection import train_test_split"
   ]
  },
  {
   "cell_type": "code",
   "execution_count": 2,
   "metadata": {},
   "outputs": [],
   "source": [
    "df = pd.read_csv(\"./train.csv\")"
   ]
  },
  {
   "cell_type": "code",
   "execution_count": 3,
   "metadata": {},
   "outputs": [
    {
     "data": {
      "text/html": [
       "<div>\n",
       "<style scoped>\n",
       "    .dataframe tbody tr th:only-of-type {\n",
       "        vertical-align: middle;\n",
       "    }\n",
       "\n",
       "    .dataframe tbody tr th {\n",
       "        vertical-align: top;\n",
       "    }\n",
       "\n",
       "    .dataframe thead th {\n",
       "        text-align: right;\n",
       "    }\n",
       "</style>\n",
       "<table border=\"1\" class=\"dataframe\">\n",
       "  <thead>\n",
       "    <tr style=\"text-align: right;\">\n",
       "      <th></th>\n",
       "      <th>label</th>\n",
       "      <th>pixel0</th>\n",
       "      <th>pixel1</th>\n",
       "      <th>pixel2</th>\n",
       "      <th>pixel3</th>\n",
       "      <th>pixel4</th>\n",
       "      <th>pixel5</th>\n",
       "      <th>pixel6</th>\n",
       "      <th>pixel7</th>\n",
       "      <th>pixel8</th>\n",
       "      <th>...</th>\n",
       "      <th>pixel774</th>\n",
       "      <th>pixel775</th>\n",
       "      <th>pixel776</th>\n",
       "      <th>pixel777</th>\n",
       "      <th>pixel778</th>\n",
       "      <th>pixel779</th>\n",
       "      <th>pixel780</th>\n",
       "      <th>pixel781</th>\n",
       "      <th>pixel782</th>\n",
       "      <th>pixel783</th>\n",
       "    </tr>\n",
       "  </thead>\n",
       "  <tbody>\n",
       "    <tr>\n",
       "      <th>0</th>\n",
       "      <td>1</td>\n",
       "      <td>0</td>\n",
       "      <td>0</td>\n",
       "      <td>0</td>\n",
       "      <td>0</td>\n",
       "      <td>0</td>\n",
       "      <td>0</td>\n",
       "      <td>0</td>\n",
       "      <td>0</td>\n",
       "      <td>0</td>\n",
       "      <td>...</td>\n",
       "      <td>0</td>\n",
       "      <td>0</td>\n",
       "      <td>0</td>\n",
       "      <td>0</td>\n",
       "      <td>0</td>\n",
       "      <td>0</td>\n",
       "      <td>0</td>\n",
       "      <td>0</td>\n",
       "      <td>0</td>\n",
       "      <td>0</td>\n",
       "    </tr>\n",
       "    <tr>\n",
       "      <th>1</th>\n",
       "      <td>0</td>\n",
       "      <td>0</td>\n",
       "      <td>0</td>\n",
       "      <td>0</td>\n",
       "      <td>0</td>\n",
       "      <td>0</td>\n",
       "      <td>0</td>\n",
       "      <td>0</td>\n",
       "      <td>0</td>\n",
       "      <td>0</td>\n",
       "      <td>...</td>\n",
       "      <td>0</td>\n",
       "      <td>0</td>\n",
       "      <td>0</td>\n",
       "      <td>0</td>\n",
       "      <td>0</td>\n",
       "      <td>0</td>\n",
       "      <td>0</td>\n",
       "      <td>0</td>\n",
       "      <td>0</td>\n",
       "      <td>0</td>\n",
       "    </tr>\n",
       "    <tr>\n",
       "      <th>2</th>\n",
       "      <td>1</td>\n",
       "      <td>0</td>\n",
       "      <td>0</td>\n",
       "      <td>0</td>\n",
       "      <td>0</td>\n",
       "      <td>0</td>\n",
       "      <td>0</td>\n",
       "      <td>0</td>\n",
       "      <td>0</td>\n",
       "      <td>0</td>\n",
       "      <td>...</td>\n",
       "      <td>0</td>\n",
       "      <td>0</td>\n",
       "      <td>0</td>\n",
       "      <td>0</td>\n",
       "      <td>0</td>\n",
       "      <td>0</td>\n",
       "      <td>0</td>\n",
       "      <td>0</td>\n",
       "      <td>0</td>\n",
       "      <td>0</td>\n",
       "    </tr>\n",
       "    <tr>\n",
       "      <th>3</th>\n",
       "      <td>4</td>\n",
       "      <td>0</td>\n",
       "      <td>0</td>\n",
       "      <td>0</td>\n",
       "      <td>0</td>\n",
       "      <td>0</td>\n",
       "      <td>0</td>\n",
       "      <td>0</td>\n",
       "      <td>0</td>\n",
       "      <td>0</td>\n",
       "      <td>...</td>\n",
       "      <td>0</td>\n",
       "      <td>0</td>\n",
       "      <td>0</td>\n",
       "      <td>0</td>\n",
       "      <td>0</td>\n",
       "      <td>0</td>\n",
       "      <td>0</td>\n",
       "      <td>0</td>\n",
       "      <td>0</td>\n",
       "      <td>0</td>\n",
       "    </tr>\n",
       "    <tr>\n",
       "      <th>4</th>\n",
       "      <td>0</td>\n",
       "      <td>0</td>\n",
       "      <td>0</td>\n",
       "      <td>0</td>\n",
       "      <td>0</td>\n",
       "      <td>0</td>\n",
       "      <td>0</td>\n",
       "      <td>0</td>\n",
       "      <td>0</td>\n",
       "      <td>0</td>\n",
       "      <td>...</td>\n",
       "      <td>0</td>\n",
       "      <td>0</td>\n",
       "      <td>0</td>\n",
       "      <td>0</td>\n",
       "      <td>0</td>\n",
       "      <td>0</td>\n",
       "      <td>0</td>\n",
       "      <td>0</td>\n",
       "      <td>0</td>\n",
       "      <td>0</td>\n",
       "    </tr>\n",
       "  </tbody>\n",
       "</table>\n",
       "<p>5 rows × 785 columns</p>\n",
       "</div>"
      ],
      "text/plain": [
       "   label  pixel0  pixel1  pixel2  pixel3  pixel4  pixel5  pixel6  pixel7  \\\n",
       "0      1       0       0       0       0       0       0       0       0   \n",
       "1      0       0       0       0       0       0       0       0       0   \n",
       "2      1       0       0       0       0       0       0       0       0   \n",
       "3      4       0       0       0       0       0       0       0       0   \n",
       "4      0       0       0       0       0       0       0       0       0   \n",
       "\n",
       "   pixel8    ...     pixel774  pixel775  pixel776  pixel777  pixel778  \\\n",
       "0       0    ...            0         0         0         0         0   \n",
       "1       0    ...            0         0         0         0         0   \n",
       "2       0    ...            0         0         0         0         0   \n",
       "3       0    ...            0         0         0         0         0   \n",
       "4       0    ...            0         0         0         0         0   \n",
       "\n",
       "   pixel779  pixel780  pixel781  pixel782  pixel783  \n",
       "0         0         0         0         0         0  \n",
       "1         0         0         0         0         0  \n",
       "2         0         0         0         0         0  \n",
       "3         0         0         0         0         0  \n",
       "4         0         0         0         0         0  \n",
       "\n",
       "[5 rows x 785 columns]"
      ]
     },
     "execution_count": 3,
     "metadata": {},
     "output_type": "execute_result"
    }
   ],
   "source": [
    "df.head()"
   ]
  },
  {
   "cell_type": "code",
   "execution_count": 4,
   "metadata": {},
   "outputs": [],
   "source": [
    "def score(y_true,y_pred):\n",
    "    print (precision_score(y_true,y_pred,average=\"micro\"))\n",
    "    print (recall_score(y_true,y_pred,average=\"micro\"))\n",
    "    print (accuracy_score(y_true,y_pred))\n",
    "    print (f1_score(y_true,y_pred,average=\"micro\"))"
   ]
  },
  {
   "cell_type": "code",
   "execution_count": 5,
   "metadata": {},
   "outputs": [],
   "source": [
    "labels = df.pop(\"label\")"
   ]
  },
  {
   "cell_type": "code",
   "execution_count": 6,
   "metadata": {},
   "outputs": [
    {
     "data": {
      "text/plain": [
       "OneHotEncoder(categorical_features='all', dtype=<class 'numpy.float64'>,\n",
       "       handle_unknown='error', n_values='auto', sparse=True)"
      ]
     },
     "execution_count": 6,
     "metadata": {},
     "output_type": "execute_result"
    }
   ],
   "source": [
    "ohe = OneHotEncoder()\n",
    "ohe.fit(labels.reshape(-1,1))"
   ]
  },
  {
   "cell_type": "code",
   "execution_count": 7,
   "metadata": {},
   "outputs": [],
   "source": [
    "X,x,Y,y = train_test_split(df.values,labels)"
   ]
  },
  {
   "cell_type": "code",
   "execution_count": 8,
   "metadata": {},
   "outputs": [],
   "source": [
    "Y = ohe.transform(Y.reshape(-1,1))"
   ]
  },
  {
   "cell_type": "code",
   "execution_count": 9,
   "metadata": {},
   "outputs": [
    {
     "name": "stdout",
     "output_type": "stream",
     "text": [
      "WARNING:tensorflow:From /usr/lib/python3/dist-packages/tensorflow_core/python/ops/resource_variable_ops.py:1630: calling BaseResourceVariable.__init__ (from tensorflow.python.ops.resource_variable_ops) with constraint is deprecated and will be removed in a future version.\n",
      "Instructions for updating:\n",
      "If using Keras pass *_constraint arguments to layers.\n"
     ]
    }
   ],
   "source": [
    "model = Sequential()\n",
    "model.add(Dense(32,activation='relu',input_shape=(784,)))\n",
    "model.add(Dense(128,activation=\"relu\"))\n",
    "model.add(Dense(1024,activation=\"relu\"))\n",
    "model.add(BatchNormalization(momentum=0.9))\n",
    "model.add(Dense(10,activation=\"softmax\"))"
   ]
  },
  {
   "cell_type": "code",
   "execution_count": 10,
   "metadata": {},
   "outputs": [],
   "source": [
    "model.compile(optimizer=\"adam\",loss=\"categorical_crossentropy\",metrics=['accuracy'])"
   ]
  },
  {
   "cell_type": "code",
   "execution_count": 11,
   "metadata": {},
   "outputs": [
    {
     "name": "stdout",
     "output_type": "stream",
     "text": [
      "Train on 31500 samples\n",
      "Epoch 1/10\n",
      "31500/31500 [==============================] - 3s 96us/sample - loss: 0.3811 - acc: 0.8849\n",
      "Epoch 2/10\n",
      "31500/31500 [==============================] - 3s 81us/sample - loss: 0.2030 - acc: 0.9385\n",
      "Epoch 3/10\n",
      "31500/31500 [==============================] - 3s 82us/sample - loss: 0.1548 - acc: 0.9528\n",
      "Epoch 4/10\n",
      "31500/31500 [==============================] - 3s 81us/sample - loss: 0.1363 - acc: 0.9577\n",
      "Epoch 5/10\n",
      "31500/31500 [==============================] - 3s 83us/sample - loss: 0.1255 - acc: 0.9615\n",
      "Epoch 6/10\n",
      "31500/31500 [==============================] - 3s 81us/sample - loss: 0.0962 - acc: 0.9705\n",
      "Epoch 7/10\n",
      "31500/31500 [==============================] - 3s 83us/sample - loss: 0.0912 - acc: 0.9713\n",
      "Epoch 8/10\n",
      "31500/31500 [==============================] - 3s 81us/sample - loss: 0.0857 - acc: 0.9725\n",
      "Epoch 9/10\n",
      "31500/31500 [==============================] - 3s 83us/sample - loss: 0.0696 - acc: 0.9778\n",
      "Epoch 10/10\n",
      "31500/31500 [==============================] - 3s 82us/sample - loss: 0.0706 - acc: 0.9780\n"
     ]
    },
    {
     "data": {
      "text/plain": [
       "<tensorflow.python.keras.callbacks.History at 0x7f2159d2aeb8>"
      ]
     },
     "execution_count": 11,
     "metadata": {},
     "output_type": "execute_result"
    }
   ],
   "source": [
    "model.fit(X,Y,epochs=10,)"
   ]
  },
  {
   "cell_type": "code",
   "execution_count": 12,
   "metadata": {},
   "outputs": [],
   "source": [
    "y_pred = model.predict_classes(x)\n",
    "# score(y,y_pred)"
   ]
  },
  {
   "cell_type": "code",
   "execution_count": 13,
   "metadata": {},
   "outputs": [
    {
     "name": "stdout",
     "output_type": "stream",
     "text": [
      "0.9578095238095238\n",
      "0.9578095238095238\n",
      "0.9578095238095238\n",
      "0.9578095238095238\n"
     ]
    }
   ],
   "source": [
    "score(y.values,y_pred)"
   ]
  },
  {
   "cell_type": "code",
   "execution_count": 14,
   "metadata": {},
   "outputs": [],
   "source": [
    "X,x = X/255,x/255"
   ]
  },
  {
   "cell_type": "code",
   "execution_count": 15,
   "metadata": {},
   "outputs": [
    {
     "name": "stdout",
     "output_type": "stream",
     "text": [
      "Train on 31500 samples\n",
      "Epoch 1/10\n",
      "31500/31500 [==============================] - 3s 89us/sample - loss: 0.0672 - acc: 0.9782\n",
      "Epoch 2/10\n",
      "31500/31500 [==============================] - 3s 82us/sample - loss: 0.0525 - acc: 0.9836\n",
      "Epoch 3/10\n",
      "31500/31500 [==============================] - 3s 81us/sample - loss: 0.0495 - acc: 0.9840\n",
      "Epoch 4/10\n",
      "31500/31500 [==============================] - 3s 82us/sample - loss: 0.0464 - acc: 0.9843\n",
      "Epoch 5/10\n",
      "31500/31500 [==============================] - 3s 82us/sample - loss: 0.0398 - acc: 0.9869\n",
      "Epoch 6/10\n",
      "31500/31500 [==============================] - 3s 82us/sample - loss: 0.0354 - acc: 0.9890\n",
      "Epoch 7/10\n",
      "31500/31500 [==============================] - 3s 81us/sample - loss: 0.0443 - acc: 0.9857\n",
      "Epoch 8/10\n",
      "31500/31500 [==============================] - 3s 95us/sample - loss: 0.0312 - acc: 0.9894\n",
      "Epoch 9/10\n",
      "31500/31500 [==============================] - 3s 80us/sample - loss: 0.0296 - acc: 0.9900\n",
      "Epoch 10/10\n",
      "31500/31500 [==============================] - 3s 85us/sample - loss: 0.0262 - acc: 0.9915\n"
     ]
    },
    {
     "data": {
      "text/plain": [
       "<tensorflow.python.keras.callbacks.History at 0x7f213dd1f7f0>"
      ]
     },
     "execution_count": 15,
     "metadata": {},
     "output_type": "execute_result"
    }
   ],
   "source": [
    "model.compile(optimizer=\"adam\",loss=\"categorical_crossentropy\",metrics=['accuracy'])\n",
    "model.fit(X,Y,epochs=10)"
   ]
  },
  {
   "cell_type": "markdown",
   "metadata": {},
   "source": [
    "### CNN"
   ]
  },
  {
   "cell_type": "code",
   "execution_count": 16,
   "metadata": {
    "scrolled": false
   },
   "outputs": [],
   "source": [
    "model = Sequential()\n",
    "model.add(Conv2D(filters=32,kernel_size=4,input_shape=(28,28,1),activation=\"relu\"))\n",
    "model.add(Conv2D(32,3,activation=\"relu\"))\n",
    "model.add(MaxPool2D(pool_size=(3,3)))\n",
    "model.add(Conv2D(32,3,activation=\"relu\"))\n",
    "model.add(Conv2D(64,2,activation=\"relu\"))\n",
    "model.add(Conv2D(64,3,activation=\"relu\"))\n",
    "model.add(MaxPool2D(pool_size=1))\n",
    "model.add(Flatten())\n",
    "model.add(Dense(1024,activation=\"relu\"))\n",
    "model.add(Dense(10,activation=\"softmax\"))"
   ]
  },
  {
   "cell_type": "code",
   "execution_count": 17,
   "metadata": {},
   "outputs": [],
   "source": [
    "model.compile(optimizer=\"adam\",loss='categorical_crossentropy',metrics=['accuracy'])"
   ]
  },
  {
   "cell_type": "code",
   "execution_count": 18,
   "metadata": {},
   "outputs": [
    {
     "name": "stdout",
     "output_type": "stream",
     "text": [
      "Train on 31500 samples\n",
      "Epoch 1/10\n",
      "31500/31500 [==============================] - 5s 161us/sample - loss: 0.2071 - acc: 0.9341\n",
      "Epoch 2/10\n",
      "31500/31500 [==============================] - 4s 126us/sample - loss: 0.0685 - acc: 0.9792\n",
      "Epoch 3/10\n",
      "31500/31500 [==============================] - 4s 123us/sample - loss: 0.0504 - acc: 0.9840\n",
      "Epoch 4/10\n",
      "31500/31500 [==============================] - 4s 121us/sample - loss: 0.0425 - acc: 0.9877\n",
      "Epoch 5/10\n",
      "31500/31500 [==============================] - 4s 125us/sample - loss: 0.0354 - acc: 0.9893\n",
      "Epoch 6/10\n",
      "31500/31500 [==============================] - 4s 122us/sample - loss: 0.0331 - acc: 0.9901\n",
      "Epoch 7/10\n",
      "31500/31500 [==============================] - 4s 127us/sample - loss: 0.0267 - acc: 0.9916\n",
      "Epoch 8/10\n",
      "31500/31500 [==============================] - 4s 128us/sample - loss: 0.0236 - acc: 0.9923\n",
      "Epoch 9/10\n",
      "31500/31500 [==============================] - 4s 138us/sample - loss: 0.0196 - acc: 0.9940\n",
      "Epoch 10/10\n",
      "31500/31500 [==============================] - 4s 129us/sample - loss: 0.0229 - acc: 0.9930\n"
     ]
    },
    {
     "data": {
      "text/plain": [
       "<tensorflow.python.keras.callbacks.History at 0x7f213dc609b0>"
      ]
     },
     "execution_count": 18,
     "metadata": {},
     "output_type": "execute_result"
    }
   ],
   "source": [
    "model.fit(X.reshape(-1,28,28,1),Y,epochs=10)"
   ]
  },
  {
   "cell_type": "code",
   "execution_count": 19,
   "metadata": {},
   "outputs": [
    {
     "name": "stdout",
     "output_type": "stream",
     "text": [
      "10500/10500 [==============================] - 1s 79us/sample - loss: 0.0499 - acc: 0.9872\n"
     ]
    },
    {
     "data": {
      "text/plain": [
       "[0.049870944982131946, 0.9872381]"
      ]
     },
     "execution_count": 19,
     "metadata": {},
     "output_type": "execute_result"
    }
   ],
   "source": [
    "model.evaluate(x.reshape(-1,28,28,1),ohe.transform(y.reshape(-1,1)))"
   ]
  },
  {
   "cell_type": "code",
   "execution_count": 20,
   "metadata": {},
   "outputs": [],
   "source": [
    "df = pd.read_csv(\"./train.csv\")\n",
    "labels = df.pop('label')\n",
    "images = df.values"
   ]
  },
  {
   "cell_type": "code",
   "execution_count": 21,
   "metadata": {},
   "outputs": [],
   "source": [
    "def crop(img,size=28):\n",
    "    \n",
    "    H_MIN,H_MAX = np.where(img.std(axis=1)>8)[0][[0,-1]]\n",
    "    W_MIN,W_MAX = np.where(img.std(axis=0)>8)[0][[0,-1]]\n",
    "    \n",
    "    img = img[H_MIN:H_MAX,W_MIN:W_MAX]\n",
    "    img = np.pad(img,pad_width=2)\n",
    "    \n",
    "    return cv2.resize(img.astype(np.uint8),(size,size))\n",
    "\n",
    "def input_gen(images,labels,epochs=10,_crop=True):\n",
    "    for epoch in range(epochs):\n",
    "        for i in range(images.shape[0]):\n",
    "            y = ohe.transform([[labels[i]]])\n",
    "            img_full = crop(images[i].reshape(28,28))\n",
    "            img_half_0 = img_full[:,:14]\n",
    "            img_half_1 = img_full[:,14:]\n",
    "            yield (\n",
    "                {\n",
    "                    \"input_full\":img_full.reshape(1,28,28,1)/255,\n",
    "                    \"input_half_0\":img_half_0.reshape(1,28,14,1)/255,\n",
    "                    \"input_half_1\":img_half_1.reshape(1,28,14,1)/255,\n",
    "                },\n",
    "                {\"output\":y.toarray()}\n",
    "            )\n",
    "            \n",
    "i = input_gen(images,labels)\n",
    "a = next(i)[0]"
   ]
  },
  {
   "cell_type": "code",
   "execution_count": 22,
   "metadata": {
    "scrolled": false
   },
   "outputs": [
    {
     "data": {
      "image/png": "[encoded data removed]",
      "text/plain": [
       "<IPython.core.display.Image object>"
      ]
     },
     "execution_count": 22,
     "metadata": {},
     "output_type": "execute_result"
    }
   ],
   "source": [
    "inputs = Input(shape=(28,28,1),name=\"input_full\")\n",
    "\n",
    "model = Conv2D(filters=32,kernel_size=4,input_shape=(28,28,1),activation=\"relu\")(inputs)\n",
    "\n",
    "model = Conv2D(32,4,activation=\"relu\")(model)\n",
    "model = MaxPool2D(pool_size=(2))(model)\n",
    "model = Conv2D(32,3,activation=\"relu\")(model)\n",
    "model = Conv2D(64,2,activation=\"relu\")(model)\n",
    "model = Conv2D(64,3,activation=\"relu\")(model)\n",
    "model = MaxPool2D(pool_size=1)(model)\n",
    "model = Conv2D(64,2,activation=\"relu\")(model)\n",
    "model = MaxPool2D(pool_size=1)(model)\n",
    "model = Flatten()(model)\n",
    "model = Dense(1024,activation=\"relu\")(model)\n",
    "model = Dense(1024,activation=\"relu\")(model)\n",
    "\n",
    "inputs_half_0 = Input(shape=(28,14,1),name='input_half_0')\n",
    "model_half_0 = Conv2D(filters=32,kernel_size=4,input_shape=(28,14,1),activation=\"relu\")(inputs_half_0)\n",
    "model_half_0 = Conv2D(32,4,activation=\"relu\")(model_half_0)\n",
    "model_half_0 = MaxPool2D(pool_size=(2))(model_half_0)\n",
    "model_half_0 = Conv2D(32,2,activation=\"relu\")(model_half_0)\n",
    "model_half_0 = Conv2D(64,2,activation=\"relu\")(model_half_0)\n",
    "model_half_0 = Conv2D(64,2,activation=\"relu\")(model_half_0)\n",
    "model_half_0 = MaxPool2D(pool_size=1)(model_half_0)\n",
    "model_half_0 = Flatten()(model_half_0)\n",
    "model_half_0 = Dense(512,activation=\"relu\")(model_half_0)\n",
    "\n",
    "inputs_half_1 = Input(shape=(28,14,1),name='input_half_1')\n",
    "model_half_1 = Conv2D(filters=32,kernel_size=4,input_shape=(28,14,1),activation=\"relu\")(inputs_half_1)\n",
    "model_half_1 = Conv2D(32,4,activation=\"relu\")(model_half_1)\n",
    "model_half_1 = MaxPool2D(pool_size=(2))(model_half_1)\n",
    "model_half_1 = Conv2D(32,2,activation=\"relu\")(model_half_1)\n",
    "model_half_1 = Conv2D(64,2,activation=\"relu\")(model_half_1)\n",
    "model_half_1 = Conv2D(64,2,activation=\"relu\")(model_half_1)\n",
    "model_half_1 = MaxPool2D(pool_size=1)(model_half_1)\n",
    "model_half_1 = Flatten()(model_half_1)\n",
    "model_half_1 = Dense(512,activation=\"relu\")(model_half_1)\n",
    "\n",
    "merge = concatenate([model,model_half_0,model_half_1])\n",
    "\n",
    "model = Dense(10,activation=\"softmax\",name=\"output\")(merge)\n",
    "model = Model(inputs=[inputs,inputs_half_0,inputs_half_1],outputs=[model])\n",
    "\n",
    "from tensorflow.keras.utils import plot_model\n",
    "plot_model(model)"
   ]
  },
  {
   "cell_type": "code",
   "execution_count": 23,
   "metadata": {},
   "outputs": [],
   "source": [
    "X,x,Y,y = train_test_split(images,labels.values)"
   ]
  },
  {
   "cell_type": "code",
   "execution_count": 24,
   "metadata": {},
   "outputs": [],
   "source": [
    "model.compile(optimizer=\"adam\",loss=\"categorical_crossentropy\",metrics=['accuracy'])"
   ]
  },
  {
   "cell_type": "code",
   "execution_count": 26,
   "metadata": {
    "scrolled": false
   },
   "outputs": [
    {
     "name": "stdout",
     "output_type": "stream",
     "text": [
      "Epoch 1/15\n",
      "  628/31500 [..............................] - ETA: 3:39 - loss: 0.3552 - acc: 0.8869"
     ]
    },
    {
     "name": "stderr",
     "output_type": "stream",
     "text": [
      "ERROR:root:Internal Python error in the inspect module.\n",
      "Below is the traceback from this internal error.\n",
      "\n"
     ]
    },
    {
     "name": "stdout",
     "output_type": "stream",
     "text": [
      "Traceback (most recent call last):\n",
      "  File \"/usr/local/lib/python3.6/dist-packages/IPython/core/interactiveshell.py\", line 3319, in run_code\n",
      "    exec(code_obj, self.user_global_ns, self.user_ns)\n",
      "  File \"<ipython-input-26-a3b696de914a>\", line 2, in <module>\n",
      "    model.fit_generator(input_gen(X,Y,epochs=EPOCHS),steps_per_epoch=X.shape[0],epochs=EPOCHS);\n",
      "  File \"/usr/lib/python3/dist-packages/tensorflow_core/python/keras/engine/training.py\", line 1296, in fit_generator\n",
      "    steps_name='steps_per_epoch')\n",
      "  File \"/usr/lib/python3/dist-packages/tensorflow_core/python/keras/engine/training_generator.py\", line 265, in model_iteration\n",
      "    batch_outs = batch_function(*batch_data)\n",
      "  File \"/usr/lib/python3/dist-packages/tensorflow_core/python/keras/engine/training.py\", line 1017, in train_on_batch\n",
      "    outputs = self.train_function(ins)  # pylint: disable=not-callable\n",
      "  File \"/usr/lib/python3/dist-packages/tensorflow_core/python/keras/backend.py\", line 3476, in __call__\n",
      "    run_metadata=self.run_metadata)\n",
      "  File \"/usr/lib/python3/dist-packages/tensorflow_core/python/client/session.py\", line 1472, in __call__\n",
      "    run_metadata_ptr)\n",
      "KeyboardInterrupt\n",
      "\n",
      "During handling of the above exception, another exception occurred:\n",
      "\n",
      "Traceback (most recent call last):\n",
      "  File \"/usr/local/lib/python3.6/dist-packages/IPython/core/interactiveshell.py\", line 2034, in showtraceback\n",
      "    stb = value._render_traceback_()\n",
      "AttributeError: 'KeyboardInterrupt' object has no attribute '_render_traceback_'\n",
      "\n",
      "During handling of the above exception, another exception occurred:\n",
      "\n",
      "Traceback (most recent call last):\n",
      "  File \"/usr/local/lib/python3.6/dist-packages/IPython/core/ultratb.py\", line 1151, in get_records\n",
      "    return _fixed_getinnerframes(etb, number_of_lines_of_context, tb_offset)\n",
      "  File \"/usr/local/lib/python3.6/dist-packages/IPython/core/ultratb.py\", line 319, in wrapped\n",
      "    return f(*args, **kwargs)\n",
      "  File \"/usr/local/lib/python3.6/dist-packages/IPython/core/ultratb.py\", line 353, in _fixed_getinnerframes\n",
      "    records = fix_frame_records_filenames(inspect.getinnerframes(etb, context))\n",
      "  File \"/usr/lib/python3.6/inspect.py\", line 1490, in getinnerframes\n",
      "    frameinfo = (tb.tb_frame,) + getframeinfo(tb, context)\n",
      "  File \"/usr/lib/python3.6/inspect.py\", line 1448, in getframeinfo\n",
      "    filename = getsourcefile(frame) or getfile(frame)\n",
      "  File \"/usr/lib/python3.6/inspect.py\", line 696, in getsourcefile\n",
      "    if getattr(getmodule(object, filename), '__loader__', None) is not None:\n",
      "  File \"/usr/lib/python3.6/inspect.py\", line 733, in getmodule\n",
      "    if ismodule(module) and hasattr(module, '__file__'):\n",
      "  File \"/usr/lib/python3/dist-packages/py/_vendored_packages/apipkg.py\", line 195, in __getattribute__\n",
      "    return getattr(getmod(), name)\n",
      "  File \"/usr/lib/python3/dist-packages/py/_vendored_packages/apipkg.py\", line 179, in getmod\n",
      "    x = importobj(modpath, None)\n",
      "  File \"/usr/lib/python3/dist-packages/py/_vendored_packages/apipkg.py\", line 69, in importobj\n",
      "    module = __import__(modpath, None, None, ['__doc__'])\n",
      "  File \"/usr/lib/python3/dist-packages/pytest.py\", line 13, in <module>\n",
      "    from _pytest.fixtures import fixture, yield_fixture\n",
      "  File \"/usr/lib/python3/dist-packages/_pytest/fixtures.py\", line 842, in <module>\n",
      "    class FixtureFunctionMarker(object):\n",
      "  File \"/usr/lib/python3/dist-packages/_pytest/fixtures.py\", line 844, in FixtureFunctionMarker\n",
      "    params = attr.ib(convert=attr.converters.optional(tuple))\n",
      "TypeError: attrib() got an unexpected keyword argument 'convert'\n"
     ]
    },
    {
     "ename": "KeyboardInterrupt",
     "evalue": "",
     "output_type": "error",
     "traceback": [
      "\u001b[0;31m---------------------------------------------------------------------------\u001b[0m"
     ]
    }
   ],
   "source": [
    "EPOCHS = 15\n",
    "model.fit_generator(input_gen(X,Y,epochs=EPOCHS),steps_per_epoch=X.shape[0],epochs=EPOCHS);"
   ]
  },
  {
   "cell_type": "code",
   "execution_count": null,
   "metadata": {},
   "outputs": [],
   "source": [
    "model.evaluate_generator(input_gen(x,y,epochs=1),steps=x.shape[0])"
   ]
  }
 ],
 "metadata": {
  "kernelspec": {
   "display_name": "Python 3.6.9 64-bit",
   "language": "python",
   "name": "python36964bitf4c31fab9e2f40f28786ba6ebe307f5d"
  },
  "language_info": {
   "codemirror_mode": {
    "name": "ipython",
    "version": 3
   },
   "file_extension": ".py",
   "mimetype": "text/x-python",
   "name": "python",
   "nbconvert_exporter": "python",
   "pygments_lexer": "ipython3",
   "version": "3.6.9"
  }
 },
 "nbformat": 4,
 "nbformat_minor": 4
}
