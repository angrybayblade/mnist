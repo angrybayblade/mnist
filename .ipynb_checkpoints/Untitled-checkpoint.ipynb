{
 "cells": [
  {
   "cell_type": "code",
   "execution_count": null,
   "metadata": {},
   "outputs": [],
   "source": [
    "import numpy as np\n",
    "import pandas as pd\n",
    "import cv2\n",
    "import matplotlib.pyplot as plt\n",
    "\n",
    "%matplotlib inline"
   ]
  },
  {
   "cell_type": "code",
   "execution_count": null,
   "metadata": {},
   "outputs": [],
   "source": [
    "from tensorflow import keras"
   ]
  },
  {
   "cell_type": "code",
   "execution_count": null,
   "metadata": {},
   "outputs": [],
   "source": [
    "densenet = keras.applications.DenseNet121(include_top=False,input_shape=(32,32,3),input_tensor=None,classes=10)"
   ]
  },
  {
   "cell_type": "code",
   "execution_count": null,
   "metadata": {
    "scrolled": true
   },
   "outputs": [],
   "source": [
    "df = pd.read_csv(\"./train.csv\")"
   ]
  },
  {
   "cell_type": "code",
   "execution_count": null,
   "metadata": {
    "scrolled": false
   },
   "outputs": [],
   "source": [
    "labels = df.pop('label')"
   ]
  },
  {
   "cell_type": "code",
   "execution_count": null,
   "metadata": {},
   "outputs": [],
   "source": [
    "target = pd.get_dummies(labels).values"
   ]
  },
  {
   "cell_type": "code",
   "execution_count": null,
   "metadata": {},
   "outputs": [],
   "source": [
    "images = df.values"
   ]
  },
  {
   "cell_type": "code",
   "execution_count": null,
   "metadata": {},
   "outputs": [],
   "source": [
    "def get_dataset(row):\n",
    "    return cv2.resize(np.repeat(row.reshape(28,28,1),3,2).astype(np.uint8),(32,32))\n",
    "\n",
    "images = np.apply_along_axis(get_dataset,1,images)"
   ]
  },
  {
   "cell_type": "code",
   "execution_count": null,
   "metadata": {},
   "outputs": [],
   "source": [
    "for layer in densenet.layers:\n",
    "    layer.trainable = True"
   ]
  },
  {
   "cell_type": "code",
   "execution_count": null,
   "metadata": {},
   "outputs": [],
   "source": [
    "last_layer = densenet.output\n",
    "fc = keras.layers.Dense(512,activation=\"relu\")(last_layer)\n",
    "fc = keras.layers.Dense(512,activation=\"relu\")(fc)\n",
    "out = keras.layers.Dense(10,activation=\"softmax\")(fc)\n",
    "\n",
    "model = keras.models.Model(densenet.input,out)"
   ]
  },
  {
   "cell_type": "code",
   "execution_count": null,
   "metadata": {},
   "outputs": [],
   "source": [
    "model.compile(optimizer=\"adam\",loss=\"categorical_crossentropy\",metrics=['accuracy'])"
   ]
  },
  {
   "cell_type": "code",
   "execution_count": null,
   "metadata": {},
   "outputs": [],
   "source": [
    "def input_flow(x,y,batch_size=32,epochs=1):\n",
    "    for i in range(epochs):\n",
    "        br = x.shape[0] % batch_size\n",
    "        \n",
    "        _x = x[:-br].reshape(-1,batch_size,*x[0].shape)\n",
    "        _y = y[:-br].reshape(-1,batch_size,1,1,10)\n",
    "        \n",
    "        x_ = x[-br:]\n",
    "        y_ = y[-br:]\n",
    "        \n",
    "        for batch in zip(_x,_y):\n",
    "            yield batch\n",
    "        yield x_,y_"
   ]
  },
  {
   "cell_type": "code",
   "execution_count": null,
   "metadata": {},
   "outputs": [],
   "source": [
    "batch_size=32\n",
    "epochs = 3\n",
    "\n",
    "gen = input_flow(images,target,batch_size,epochs)\n",
    "\n",
    "model.fit_generator(gen,steps_per_epoch=images.shape[0]//batch_size,epochs=epochs)"
   ]
  },
  {
   "cell_type": "code",
   "execution_count": null,
   "metadata": {},
   "outputs": [],
   "source": []
  }
 ],
 "metadata": {
  "kernelspec": {
   "display_name": "Python 3",
   "language": "python",
   "name": "python3"
  },
  "language_info": {
   "codemirror_mode": {
    "name": "ipython",
    "version": 3
   },
   "file_extension": ".py",
   "mimetype": "text/x-python",
   "name": "python",
   "nbconvert_exporter": "python",
   "pygments_lexer": "ipython3",
   "version": "3.6.9"
  }
 },
 "nbformat": 4,
 "nbformat_minor": 4
}
